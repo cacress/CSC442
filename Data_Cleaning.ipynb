{
  "nbformat": 4,
  "nbformat_minor": 0,
  "metadata": {
    "colab": {
      "provenance": [],
      "authorship_tag": "ABX9TyMsk9I8vLnMXnTVWM9wfNme",
      "include_colab_link": true
    },
    "kernelspec": {
      "name": "python3",
      "display_name": "Python 3"
    },
    "language_info": {
      "name": "python"
    }
  },
  "cells": [
    {
      "cell_type": "markdown",
      "metadata": {
        "id": "view-in-github",
        "colab_type": "text"
      },
      "source": [
        "<a href=\"https://colab.research.google.com/github/cacress/CSC442/blob/main/Data_Cleaning.ipynb\" target=\"_parent\"><img src=\"https://colab.research.google.com/assets/colab-badge.svg\" alt=\"Open In Colab\"/></a>"
      ]
    },
    {
      "cell_type": "code",
      "execution_count": 3,
      "metadata": {
        "id": "-h-jK9OlcHSU"
      },
      "outputs": [],
      "source": [
        "# Import pandas\n",
        "import pandas as pd\n",
        "\n",
        "# Read in the file and print out the DataFrame\n",
        "hulu_data = pd.read_csv(\"https://raw.githubusercontent.com/cacress/CSC442/refs/heads/main/datasets/titles_hulu.csv\")\n",
        "netflix_data = pd.read_csv(\"https://raw.githubusercontent.com/cacress/CSC442/refs/heads/main/datasets/titles_netflix.csv\")"
      ]
    },
    {
      "cell_type": "code",
      "source": [
        "# Concatentate datasets\n",
        "combined_df = pd.concat([hulu_data, netflix_data])\n",
        "combined_df.shape\n",
        "combined_df.index"
      ],
      "metadata": {
        "colab": {
          "base_uri": "https://localhost:8080/"
        },
        "id": "GXNxHXjVcL1L",
        "outputId": "9268a617-0d8f-4098-9295-5ab2182b3811"
      },
      "execution_count": 4,
      "outputs": [
        {
          "output_type": "stream",
          "name": "stdout",
          "text": [
            "/n/n\n"
          ]
        },
        {
          "output_type": "execute_result",
          "data": {
            "text/plain": [
              "Index([   0,    1,    2,    3,    4,    5,    6,    7,    8,    9,\n",
              "       ...\n",
              "       5840, 5841, 5842, 5843, 5844, 5845, 5846, 5847, 5848, 5849],\n",
              "      dtype='int64', length=8248)"
            ]
          },
          "metadata": {},
          "execution_count": 4
        }
      ]
    },
    {
      "cell_type": "code",
      "source": [
        "# Create a list of the columns that are categorical and those that are integer and those that have string values\n",
        "\n",
        "import numpy as np\n",
        "numerical = []\n",
        "categorical = []\n",
        "string = []\n",
        "\n",
        "combined_df['genres'] = combined_df['genres'].apply(lambda x: x[0] if isinstance(x, list) and len(x) > 0 else None)\n",
        "combined_df['production_countries'] = combined_df['production_countries'].apply(lambda x: x[0] if isinstance(x, list) and len(x) > 0 else None)\n",
        "\n",
        "for column in combined_df.columns:\n",
        "# check if the column contains more than 10 unique values then it is not categorical\n",
        "  if combined_df[column].dtype == np.int64 or combined_df[column].dtype == np.float64:\n",
        "    numerical.append(column)\n",
        "\n",
        "# second check for numerical values\n",
        "#HINT: use numpy datatypes\n",
        "  elif combined_df[column].nunique() > 100:\n",
        "    string.append(column)\n",
        "  elif combined_df[column].dtype == np.object_:\n",
        "    categorical.append(column)\n",
        "\n",
        "# otherwise it would be String values\n",
        "# Categorical: Type, Genres, Age certification, Production country\n",
        "  else:\n",
        "    categorical.append(column)\n",
        "\n",
        "print(\"Numerical columns: \", numerical)\n",
        "print(\"Categorical columns: \", categorical)\n",
        "print(\"String columns: \", string)"
      ],
      "metadata": {
        "colab": {
          "base_uri": "https://localhost:8080/"
        },
        "id": "E9zMNuBScfTI",
        "outputId": "4e675826-df4b-4569-8d13-6ea3fccb4c0a"
      },
      "execution_count": 5,
      "outputs": [
        {
          "output_type": "stream",
          "name": "stdout",
          "text": [
            "Numerical columns:  ['release_year', 'runtime', 'seasons', 'imdb_score', 'imdb_votes', 'tmdb_popularity', 'tmdb_score']\n",
            "Categorical columns:  ['type', 'age_certification', 'genres', 'production_countries']\n",
            "String columns:  ['id', 'title', 'description', 'imdb_id']\n"
          ]
        }
      ]
    },
    {
      "cell_type": "code",
      "source": [
        "# Convert all the columns in the categorical list to be of the type category\n",
        "\n",
        "for column in categorical:\n",
        "  combined_df[column] = combined_df[column].astype('category')\n",
        "\n",
        "combined_df.info()"
      ],
      "metadata": {
        "colab": {
          "base_uri": "https://localhost:8080/"
        },
        "id": "bihVJ9M2cmUz",
        "outputId": "0c009fa9-8080-415e-8f92-99e386166d68"
      },
      "execution_count": 6,
      "outputs": [
        {
          "output_type": "stream",
          "name": "stdout",
          "text": [
            "<class 'pandas.core.frame.DataFrame'>\n",
            "Index: 8248 entries, 0 to 5849\n",
            "Data columns (total 15 columns):\n",
            " #   Column                Non-Null Count  Dtype   \n",
            "---  ------                --------------  -----   \n",
            " 0   id                    8248 non-null   object  \n",
            " 1   title                 8247 non-null   object  \n",
            " 2   type                  8248 non-null   category\n",
            " 3   description           8217 non-null   object  \n",
            " 4   release_year          8248 non-null   int64   \n",
            " 5   age_certification     4944 non-null   category\n",
            " 6   runtime               8248 non-null   int64   \n",
            " 7   genres                0 non-null      category\n",
            " 8   production_countries  0 non-null      category\n",
            " 9   seasons               3436 non-null   float64 \n",
            " 10  imdb_id               7710 non-null   object  \n",
            " 11  imdb_score            7600 non-null   float64 \n",
            " 12  imdb_votes            7583 non-null   float64 \n",
            " 13  tmdb_popularity       8107 non-null   float64 \n",
            " 14  tmdb_score            7777 non-null   float64 \n",
            "dtypes: category(4), float64(5), int64(2), object(4)\n",
            "memory usage: 806.2+ KB\n"
          ]
        }
      ]
    },
    {
      "cell_type": "code",
      "source": [
        "# Sanity check\n",
        "combined_df.info()"
      ],
      "metadata": {
        "colab": {
          "base_uri": "https://localhost:8080/"
        },
        "id": "OxQJE79AcpJi",
        "outputId": "c017b1fb-4bd8-41c6-a58b-f47f32109edf"
      },
      "execution_count": 7,
      "outputs": [
        {
          "output_type": "stream",
          "name": "stdout",
          "text": [
            "<class 'pandas.core.frame.DataFrame'>\n",
            "Index: 8248 entries, 0 to 5849\n",
            "Data columns (total 15 columns):\n",
            " #   Column                Non-Null Count  Dtype   \n",
            "---  ------                --------------  -----   \n",
            " 0   id                    8248 non-null   object  \n",
            " 1   title                 8247 non-null   object  \n",
            " 2   type                  8248 non-null   category\n",
            " 3   description           8217 non-null   object  \n",
            " 4   release_year          8248 non-null   int64   \n",
            " 5   age_certification     4944 non-null   category\n",
            " 6   runtime               8248 non-null   int64   \n",
            " 7   genres                0 non-null      category\n",
            " 8   production_countries  0 non-null      category\n",
            " 9   seasons               3436 non-null   float64 \n",
            " 10  imdb_id               7710 non-null   object  \n",
            " 11  imdb_score            7600 non-null   float64 \n",
            " 12  imdb_votes            7583 non-null   float64 \n",
            " 13  tmdb_popularity       8107 non-null   float64 \n",
            " 14  tmdb_score            7777 non-null   float64 \n",
            "dtypes: category(4), float64(5), int64(2), object(4)\n",
            "memory usage: 806.2+ KB\n"
          ]
        }
      ]
    },
    {
      "cell_type": "code",
      "source": [
        "# check for duplicate rows using the duplicated().sum() functions - returns number of duplicate rows\n",
        "# num_duplicates = combined_df.duplicated().sum()\n",
        "# print(\"Number of duplicate rows:\", num_duplicates)\n",
        "\n",
        "combined_df.info()\n",
        "\n",
        "# Check if there are duplicate IDs\n",
        "duplicates_exist = combined_df['id'].duplicated().any()\n",
        "print(\"\\nAre there duplicate IDs?:\", duplicates_exist)\n",
        "\n",
        "# Find the unique duplicate values\n",
        "duplicate_values = combined_df[combined_df['id'].duplicated()]['id'].unique()\n",
        "print(\"\\nDuplicate ID values:\", duplicate_values)\n",
        "\n",
        "# Extract duplicate rows\n",
        "duplicate_rows_df = combined_df[combined_df['id'].duplicated(keep=False)]\n",
        "print(\"\\nRows with Duplicate IDs:\\n\", duplicate_rows_df)\n",
        "\n",
        "# Remove duplicates, keeping the row with the highest 'runtime'\n",
        "# deduplicated_df = combined_df.loc[combined_df.groupby('id')['runtime'].idxmax()]\n",
        "deduplicated_df = (\n",
        "    combined_df\n",
        "    .sort_values(by='runtime', ascending=False)\n",
        "    .drop_duplicates(subset=['id'], keep='first')\n",
        "    .sort_values(by='id')  # optional re-sort if you like\n",
        "    .reset_index(drop=True)\n",
        ")\n",
        "\n",
        "duplicates_exist = deduplicated_df['id'].duplicated().any()\n",
        "print(\"\\nAre there duplicate IDs?:\", duplicates_exist)\n",
        "\n",
        "# Reset index for cleanliness\n",
        "# deduplicated_df = deduplicated_df.reset_index(drop=True)\n",
        "\n",
        "# Print the cleaned DataFrame\n",
        "print(\"\\nDataFrame after removing duplicates while keeping the highest runtime:\\n\", deduplicated_df)\n",
        "\n",
        "deduplicated_df.info()"
      ],
      "metadata": {
        "colab": {
          "base_uri": "https://localhost:8080/"
        },
        "id": "vZ1a5Qswctpz",
        "outputId": "517b24dd-d7ef-4044-907a-fed46c849ab1"
      },
      "execution_count": 8,
      "outputs": [
        {
          "output_type": "stream",
          "name": "stdout",
          "text": [
            "<class 'pandas.core.frame.DataFrame'>\n",
            "Index: 8248 entries, 0 to 5849\n",
            "Data columns (total 15 columns):\n",
            " #   Column                Non-Null Count  Dtype   \n",
            "---  ------                --------------  -----   \n",
            " 0   id                    8248 non-null   object  \n",
            " 1   title                 8247 non-null   object  \n",
            " 2   type                  8248 non-null   category\n",
            " 3   description           8217 non-null   object  \n",
            " 4   release_year          8248 non-null   int64   \n",
            " 5   age_certification     4944 non-null   category\n",
            " 6   runtime               8248 non-null   int64   \n",
            " 7   genres                0 non-null      category\n",
            " 8   production_countries  0 non-null      category\n",
            " 9   seasons               3436 non-null   float64 \n",
            " 10  imdb_id               7710 non-null   object  \n",
            " 11  imdb_score            7600 non-null   float64 \n",
            " 12  imdb_votes            7583 non-null   float64 \n",
            " 13  tmdb_popularity       8107 non-null   float64 \n",
            " 14  tmdb_score            7777 non-null   float64 \n",
            "dtypes: category(4), float64(5), int64(2), object(4)\n",
            "memory usage: 806.2+ KB\n",
            "\n",
            "Are there duplicate IDs?: True\n",
            "\n",
            "Duplicate ID values: ['tm180542' 'ts20678' 'ts20981' 'ts21223' 'ts20339' 'ts5145' 'ts34435'\n",
            " 'tm192037' 'tm49178' 'ts25252' 'ts21034' 'tm191772' 'ts21693' 'ts20939'\n",
            " 'ts12724' 'ts8308' 'ts21469' 'ts17156' 'ts22011' 'ts20604' 'ts11313'\n",
            " 'ts20305' 'ts21511' 'tm133767' 'ts2230' 'ts21197' 'ts30313' 'ts12787'\n",
            " 'ts35155' 'ts32186' 'tm148379' 'ts21740' 'ts20544' 'ts30288' 'ts25765'\n",
            " 'ts21688' 'tm114476' 'ts20526' 'ts31593' 'tm53999' 'ts56589' 'tm170442'\n",
            " 'ts32835' 'ts20433' 'ts20429' 'ts9246' 'tm174683' 'ts34151' 'ts191698'\n",
            " 'tm183176' 'ts20682' 'ts20351' 'ts16045' 'ts32218' 'ts20014' 'ts22426'\n",
            " 'ts521' 'ts37187' 'ts37143' 'ts37539' 'ts35201' 'ts35793' 'ts42014'\n",
            " 'tm140391' 'ts52922' 'ts42169' 'ts38116' 'tm312676' 'tm366889' 'tm244364'\n",
            " 'ts269185' 'tm414073' 'ts241248' 'ts84280' 'tm423436' 'tm363787'\n",
            " 'ts216746' 'ts87466' 'ts191559' 'ts84633' 'tm823545' 'tm426638' 'ts87471'\n",
            " 'tm463385' 'ts192297' 'ts252977' 'ts321614']\n",
            "\n",
            "Rows with Duplicate IDs:\n",
            "             id                        title   type  \\\n",
            "24    tm180542  Once Upon a Time in America  MOVIE   \n",
            "45     ts20678            Saved by the Bell   SHOW   \n",
            "62     ts20981                     Survivor   SHOW   \n",
            "66     ts21223                      Pokémon   SHOW   \n",
            "72     ts20339                    One Piece   SHOW   \n",
            "...        ...                          ...    ...   \n",
            "3355   ts87471                Darwin's Game   SHOW   \n",
            "3361  tm463385        Framing John DeLorean  MOVIE   \n",
            "3629  ts192297                      Morphle   SHOW   \n",
            "4591  ts252977  Baewatch: Parental Guidance   SHOW   \n",
            "5104  ts321614               Blippi Wonders   SHOW   \n",
            "\n",
            "                                            description  release_year  \\\n",
            "24    A former Prohibition-era Jewish gangster retur...          1984   \n",
            "45    Lovable schemer Zack Morris leads his pals on ...          1989   \n",
            "62    A reality show contest where sixteen or more c...          2000   \n",
            "66    Join Ash accompanied by his partner Pikachu, a...          1997   \n",
            "72    Years ago, the fearsome Pirate King, Gol D. Ro...          1999   \n",
            "...                                                 ...           ...   \n",
            "3355  Sudou Kaname, an ordinary high school student,...          2020   \n",
            "3361  A documentary interspersed with acted scenes, ...          2019   \n",
            "3629  Mila's dad runs the only magic pet store in th...          2019   \n",
            "4591  Couples go on a romantic getaway to test their...          2019   \n",
            "5104  Ever curious Blippi sets off on comedic and fu...          2021   \n",
            "\n",
            "     age_certification  runtime genres production_countries  seasons  \\\n",
            "24                   R      229    NaN                  NaN      NaN   \n",
            "45                TV-G       23    NaN                  NaN      5.0   \n",
            "62               TV-PG       48    NaN                  NaN     42.0   \n",
            "66               TV-Y7       22    NaN                  NaN     24.0   \n",
            "72               TV-14       23    NaN                  NaN     21.0   \n",
            "...                ...      ...    ...                  ...      ...   \n",
            "3355             TV-14       25    NaN                  NaN      1.0   \n",
            "3361               NaN      109    NaN                  NaN      NaN   \n",
            "3629              TV-Y       10    NaN                  NaN      5.0   \n",
            "4591             TV-MA       47    NaN                  NaN      1.0   \n",
            "5104              TV-Y        7    NaN                  NaN      1.0   \n",
            "\n",
            "         imdb_id  imdb_score  imdb_votes  tmdb_popularity  tmdb_score  \n",
            "24     tt0087843         8.3    342335.0           21.322        8.40  \n",
            "45     tt0096694         7.1     34854.0           16.945        8.00  \n",
            "62     tt0239195         7.4     24368.0           73.107        7.30  \n",
            "66     tt0168366         7.6       172.0          138.135        7.60  \n",
            "72     tt0388629         8.8    112586.0          105.955        8.80  \n",
            "...          ...         ...         ...              ...         ...  \n",
            "3355  tt11405390         7.2      2440.0           14.208        7.86  \n",
            "3361   tt6256978         6.5      2331.0            4.842        6.20  \n",
            "3629  tt10087694         5.2        83.0            0.832       10.00  \n",
            "4591         NaN         NaN         NaN            0.606         NaN  \n",
            "5104  tt19315934         5.1        21.0            1.557        7.00  \n",
            "\n",
            "[174 rows x 15 columns]\n",
            "\n",
            "Are there duplicate IDs?: False\n",
            "\n",
            "DataFrame after removing duplicates while keeping the highest runtime:\n",
            "              id                             title   type  \\\n",
            "0     tm1000037                      Je suis Karl  MOVIE   \n",
            "1     tm1000070    Bad Luck Banging or Loony Porn  MOVIE   \n",
            "2     tm1000147                          Zone 414  MOVIE   \n",
            "3      tm100015                            Takers  MOVIE   \n",
            "4     tm1000166  Wave of Cinema: Surat Dari Timur  MOVIE   \n",
            "...         ...                               ...    ...   \n",
            "8156    ts98340   Metallica: Some Kind of Monster   SHOW   \n",
            "8157    ts98353         DreamWorks Spooky Stories   SHOW   \n",
            "8158      ts987                      Danger Mouse   SHOW   \n",
            "8159     ts9904                         Bring It!   SHOW   \n",
            "8160    ts99814                          Masameer   SHOW   \n",
            "\n",
            "                                            description  release_year  \\\n",
            "0     After most of her family is murdered in a terr...          2021   \n",
            "1     Emi, a school teacher, finds her career and re...          2021   \n",
            "2     In the near future on a colony of state-of-the...          2021   \n",
            "3     A seasoned team of bank robbers, including Gor...          2010   \n",
            "4     Featuring a mix of film footage and special pe...          2020   \n",
            "...                                                 ...           ...   \n",
            "8156  This collection includes the acclaimed rock do...          2004   \n",
            "8157  A collection of animated tales includes shrek'...          2009   \n",
            "8158  Danger Mouse, the world's greatest secret agen...          1981   \n",
            "8159  A spotlight on the elite world of hip-hop majo...          2014   \n",
            "8160  A popular Saudi animation show talks sarcastic...          2011   \n",
            "\n",
            "     age_certification  runtime genres production_countries  seasons  \\\n",
            "0                    R      126    NaN                  NaN      NaN   \n",
            "1                  NaN      106    NaN                  NaN      NaN   \n",
            "2                    R       98    NaN                  NaN      NaN   \n",
            "3                PG-13      107    NaN                  NaN      NaN   \n",
            "4                  NaN       57    NaN                  NaN      NaN   \n",
            "...                ...      ...    ...                  ...      ...   \n",
            "8156             TV-MA       84    NaN                  NaN      1.0   \n",
            "8157             TV-PG       26    NaN                  NaN      1.0   \n",
            "8158              TV-Y       14    NaN                  NaN     10.0   \n",
            "8159             TV-PG       42    NaN                  NaN      6.0   \n",
            "8160             TV-MA       14    NaN                  NaN      1.0   \n",
            "\n",
            "         imdb_id  imdb_score  imdb_votes  tmdb_popularity  tmdb_score  \n",
            "0      tt9205538         5.4      1077.0           12.981       5.500  \n",
            "1     tt14033502         6.6      6465.0           27.554       6.500  \n",
            "2      tt8545482         4.9      4146.0          121.562       5.400  \n",
            "3      tt1135084         6.2     62464.0           15.872       6.228  \n",
            "4            NaN         NaN         NaN            0.660         NaN  \n",
            "...          ...         ...         ...              ...         ...  \n",
            "8156   tt6954486         NaN         NaN            0.893         NaN  \n",
            "8157   tt6958564         6.2        19.0            0.880         NaN  \n",
            "8158   tt0081848         7.4      3545.0            8.550       7.500  \n",
            "8159   tt3704280         6.6       531.0            4.184       9.000  \n",
            "8160   tt6298258         8.2       687.0              NaN         NaN  \n",
            "\n",
            "[8161 rows x 15 columns]\n",
            "<class 'pandas.core.frame.DataFrame'>\n",
            "RangeIndex: 8161 entries, 0 to 8160\n",
            "Data columns (total 15 columns):\n",
            " #   Column                Non-Null Count  Dtype   \n",
            "---  ------                --------------  -----   \n",
            " 0   id                    8161 non-null   object  \n",
            " 1   title                 8160 non-null   object  \n",
            " 2   type                  8161 non-null   category\n",
            " 3   description           8130 non-null   object  \n",
            " 4   release_year          8161 non-null   int64   \n",
            " 5   age_certification     4864 non-null   category\n",
            " 6   runtime               8161 non-null   int64   \n",
            " 7   genres                0 non-null      category\n",
            " 8   production_countries  0 non-null      category\n",
            " 9   seasons               3370 non-null   float64 \n",
            " 10  imdb_id               7625 non-null   object  \n",
            " 11  imdb_score            7516 non-null   float64 \n",
            " 12  imdb_votes            7499 non-null   float64 \n",
            " 13  tmdb_popularity       8020 non-null   float64 \n",
            " 14  tmdb_score            7691 non-null   float64 \n",
            "dtypes: category(4), float64(5), int64(2), object(4)\n",
            "memory usage: 734.1+ KB\n"
          ]
        }
      ]
    },
    {
      "cell_type": "code",
      "source": [
        "# Combine the imdb_score and tmdb_score columns into one, averaged column.\n",
        "# Remove any rows that have neither imdb_score or tmdb_score\n",
        "\n",
        "# Transform tmdb_score to match imdb_score's scale (1-10)\n",
        "deduplicated_df[\"tmdb_score_scaled\"] = deduplicated_df[\"tmdb_score\"] * (9/10) + 1\n",
        "\n",
        "# Compute the final combined score (average)\n",
        "deduplicated_df[\"average_score\"] = deduplicated_df[[\"tmdb_score_scaled\", \"imdb_score\"]].mean(axis=1, skipna=True)\n",
        "\n",
        "# Remove rows where both imdb_score and tmdb_score are NaN\n",
        "# deduplicated_df = deduplicated_df.dropna(subset=['average_score']).reset_index(drop=True)\n",
        "\n",
        "# Print final number of rows after filtering\n",
        "print(\"Final number of rows after removing rows with no scores:\", len(deduplicated_df))\n",
        "\n",
        "deduplicated_df.info()"
      ],
      "metadata": {
        "colab": {
          "base_uri": "https://localhost:8080/"
        },
        "id": "KCLs6qgpcxZq",
        "outputId": "1d01c640-ea91-47f2-b4e4-8f9c60d8fefa"
      },
      "execution_count": 9,
      "outputs": [
        {
          "output_type": "stream",
          "name": "stdout",
          "text": [
            "Final number of rows after removing rows with no scores: 8161\n",
            "<class 'pandas.core.frame.DataFrame'>\n",
            "RangeIndex: 8161 entries, 0 to 8160\n",
            "Data columns (total 17 columns):\n",
            " #   Column                Non-Null Count  Dtype   \n",
            "---  ------                --------------  -----   \n",
            " 0   id                    8161 non-null   object  \n",
            " 1   title                 8160 non-null   object  \n",
            " 2   type                  8161 non-null   category\n",
            " 3   description           8130 non-null   object  \n",
            " 4   release_year          8161 non-null   int64   \n",
            " 5   age_certification     4864 non-null   category\n",
            " 6   runtime               8161 non-null   int64   \n",
            " 7   genres                0 non-null      category\n",
            " 8   production_countries  0 non-null      category\n",
            " 9   seasons               3370 non-null   float64 \n",
            " 10  imdb_id               7625 non-null   object  \n",
            " 11  imdb_score            7516 non-null   float64 \n",
            " 12  imdb_votes            7499 non-null   float64 \n",
            " 13  tmdb_popularity       8020 non-null   float64 \n",
            " 14  tmdb_score            7691 non-null   float64 \n",
            " 15  tmdb_score_scaled     7691 non-null   float64 \n",
            " 16  average_score         8039 non-null   float64 \n",
            "dtypes: category(4), float64(7), int64(2), object(4)\n",
            "memory usage: 861.6+ KB\n"
          ]
        }
      ]
    },
    {
      "cell_type": "code",
      "source": [
        "# Remove specified columns from the dataset using \"drop()\"\n",
        "# ---- Ran the below line once ----\n",
        "deduplicated_df = deduplicated_df.drop(columns=['description', 'id', 'imdb_score', 'tmdb_score', 'tmdb_score_scaled'])\n",
        "deduplicated_df.info()"
      ],
      "metadata": {
        "colab": {
          "base_uri": "https://localhost:8080/"
        },
        "id": "mz9uJEC4c5lx",
        "outputId": "6b04b7f8-fc09-4d67-955e-b495815356a0"
      },
      "execution_count": 10,
      "outputs": [
        {
          "output_type": "stream",
          "name": "stdout",
          "text": [
            "<class 'pandas.core.frame.DataFrame'>\n",
            "RangeIndex: 8161 entries, 0 to 8160\n",
            "Data columns (total 12 columns):\n",
            " #   Column                Non-Null Count  Dtype   \n",
            "---  ------                --------------  -----   \n",
            " 0   title                 8160 non-null   object  \n",
            " 1   type                  8161 non-null   category\n",
            " 2   release_year          8161 non-null   int64   \n",
            " 3   age_certification     4864 non-null   category\n",
            " 4   runtime               8161 non-null   int64   \n",
            " 5   genres                0 non-null      category\n",
            " 6   production_countries  0 non-null      category\n",
            " 7   seasons               3370 non-null   float64 \n",
            " 8   imdb_id               7625 non-null   object  \n",
            " 9   imdb_votes            7499 non-null   float64 \n",
            " 10  tmdb_popularity       8020 non-null   float64 \n",
            " 11  average_score         8039 non-null   float64 \n",
            "dtypes: category(4), float64(4), int64(2), object(2)\n",
            "memory usage: 542.8+ KB\n"
          ]
        }
      ]
    },
    {
      "cell_type": "code",
      "source": [
        "# Transform the genre column into a string type, with the value being the first element in the list of genres.\n",
        "\n",
        "# Function to extract the first genre\n",
        "def extract_first_genre(genre_list):\n",
        "    if isinstance(genre_list, list) and len(genre_list) > 0:\n",
        "        return genre_list[0]  # Get the first genre\n",
        "    else:\n",
        "        return pd.NA  # Assign pandas' NA value if the list is empty\n",
        "\n",
        "# Apply function to the 'genres' column\n",
        "copy_df = deduplicated_df.copy()\n",
        "\n",
        "copy_df['genres_string'] = copy_df['genres'].apply(extract_first_genre)\n",
        "\n",
        "deduplicated_df.info()\n",
        "copy_df.info()\n",
        "\n",
        "# Get all unique genre values as a list\n",
        "print(copy_df.head())\n"
      ],
      "metadata": {
        "id": "u93jgvF9c7sQ"
      },
      "execution_count": null,
      "outputs": []
    }
  ]
}