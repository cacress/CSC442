{
  "nbformat": 4,
  "nbformat_minor": 0,
  "metadata": {
    "colab": {
      "provenance": [],
      "include_colab_link": true
    },
    "kernelspec": {
      "name": "python3",
      "display_name": "Python 3"
    },
    "language_info": {
      "name": "python"
    }
  },
  "cells": [
    {
      "cell_type": "markdown",
      "metadata": {
        "id": "view-in-github",
        "colab_type": "text"
      },
      "source": [
        "<a href=\"https://colab.research.google.com/github/cacress/CSC442/blob/main/Data_Cleaning.ipynb\" target=\"_parent\"><img src=\"https://colab.research.google.com/assets/colab-badge.svg\" alt=\"Open In Colab\"/></a>"
      ]
    },
    {
      "cell_type": "code",
      "execution_count": 1,
      "metadata": {
        "id": "-h-jK9OlcHSU"
      },
      "outputs": [],
      "source": [
        "# Import pandas\n",
        "import pandas as pd\n",
        "\n",
        "# Read in the file and print out the DataFrame\n",
        "hulu_data = pd.read_csv(\"https://raw.githubusercontent.com/cacress/CSC442/refs/heads/main/datasets/titles_hulu.csv\")\n",
        "netflix_data = pd.read_csv(\"https://raw.githubusercontent.com/cacress/CSC442/refs/heads/main/datasets/titles_netflix.csv\")"
      ]
    },
    {
      "cell_type": "code",
      "source": [
        "hulu_data.info()"
      ],
      "metadata": {
        "id": "-iX7_ASN7n8i",
        "outputId": "2db95e8f-2a43-4f1d-fd19-fa28e7d7efd6",
        "colab": {
          "base_uri": "https://localhost:8080/"
        }
      },
      "execution_count": 2,
      "outputs": [
        {
          "output_type": "stream",
          "name": "stdout",
          "text": [
            "<class 'pandas.core.frame.DataFrame'>\n",
            "RangeIndex: 2398 entries, 0 to 2397\n",
            "Data columns (total 15 columns):\n",
            " #   Column                Non-Null Count  Dtype  \n",
            "---  ------                --------------  -----  \n",
            " 0   id                    2398 non-null   object \n",
            " 1   title                 2398 non-null   object \n",
            " 2   type                  2398 non-null   object \n",
            " 3   description           2385 non-null   object \n",
            " 4   release_year          2398 non-null   int64  \n",
            " 5   age_certification     1713 non-null   object \n",
            " 6   runtime               2398 non-null   int64  \n",
            " 7   genres                2398 non-null   object \n",
            " 8   production_countries  2398 non-null   object \n",
            " 9   seasons               1330 non-null   float64\n",
            " 10  imdb_id               2263 non-null   object \n",
            " 11  imdb_score            2232 non-null   float64\n",
            " 12  imdb_votes            2231 non-null   float64\n",
            " 13  tmdb_popularity       2348 non-null   float64\n",
            " 14  tmdb_score            2238 non-null   float64\n",
            "dtypes: float64(5), int64(2), object(8)\n",
            "memory usage: 281.1+ KB\n"
          ]
        }
      ]
    },
    {
      "cell_type": "code",
      "source": [
        "netflix_data.info()"
      ],
      "metadata": {
        "id": "6WA8b1Bx7pDc",
        "outputId": "d47fce5e-e33a-4dcb-ff4e-2ecc740eab31",
        "colab": {
          "base_uri": "https://localhost:8080/"
        }
      },
      "execution_count": 3,
      "outputs": [
        {
          "output_type": "stream",
          "name": "stdout",
          "text": [
            "<class 'pandas.core.frame.DataFrame'>\n",
            "RangeIndex: 5850 entries, 0 to 5849\n",
            "Data columns (total 15 columns):\n",
            " #   Column                Non-Null Count  Dtype  \n",
            "---  ------                --------------  -----  \n",
            " 0   id                    5850 non-null   object \n",
            " 1   title                 5849 non-null   object \n",
            " 2   type                  5850 non-null   object \n",
            " 3   description           5832 non-null   object \n",
            " 4   release_year          5850 non-null   int64  \n",
            " 5   age_certification     3231 non-null   object \n",
            " 6   runtime               5850 non-null   int64  \n",
            " 7   genres                5850 non-null   object \n",
            " 8   production_countries  5850 non-null   object \n",
            " 9   seasons               2106 non-null   float64\n",
            " 10  imdb_id               5447 non-null   object \n",
            " 11  imdb_score            5368 non-null   float64\n",
            " 12  imdb_votes            5352 non-null   float64\n",
            " 13  tmdb_popularity       5759 non-null   float64\n",
            " 14  tmdb_score            5539 non-null   float64\n",
            "dtypes: float64(5), int64(2), object(8)\n",
            "memory usage: 685.7+ KB\n"
          ]
        }
      ]
    },
    {
      "cell_type": "code",
      "source": [
        "# Concatentate datasets\n",
        "combined_df = pd.concat([hulu_data, netflix_data])\n",
        "combined_df.shape\n",
        "combined_df.index"
      ],
      "metadata": {
        "colab": {
          "base_uri": "https://localhost:8080/"
        },
        "id": "GXNxHXjVcL1L",
        "outputId": "f9da6b19-060c-479c-9b90-c6c8b72087f4"
      },
      "execution_count": 4,
      "outputs": [
        {
          "output_type": "execute_result",
          "data": {
            "text/plain": [
              "Index([   0,    1,    2,    3,    4,    5,    6,    7,    8,    9,\n",
              "       ...\n",
              "       5840, 5841, 5842, 5843, 5844, 5845, 5846, 5847, 5848, 5849],\n",
              "      dtype='int64', length=8248)"
            ]
          },
          "metadata": {},
          "execution_count": 4
        }
      ]
    },
    {
      "cell_type": "code",
      "source": [
        "# Example of a value in the genres column with multiple words\n",
        "combined_df['genres'][0]\n",
        "\n",
        "# For the row with 'music' and 'comedy', we want to extract the first word 'music'\n",
        "# and replace the entire value of this row's genres variable with 'music'"
      ],
      "metadata": {
        "id": "eEVjvJc-7ufR",
        "outputId": "171805df-bd46-4f0f-d569-ffb6cf26c6c8",
        "colab": {
          "base_uri": "https://localhost:8080/",
          "height": 147
        }
      },
      "execution_count": 5,
      "outputs": [
        {
          "output_type": "execute_result",
          "data": {
            "text/plain": [
              "0    ['music', 'comedy']\n",
              "0      ['documentation']\n",
              "Name: genres, dtype: object"
            ],
            "text/html": [
              "<div>\n",
              "<style scoped>\n",
              "    .dataframe tbody tr th:only-of-type {\n",
              "        vertical-align: middle;\n",
              "    }\n",
              "\n",
              "    .dataframe tbody tr th {\n",
              "        vertical-align: top;\n",
              "    }\n",
              "\n",
              "    .dataframe thead th {\n",
              "        text-align: right;\n",
              "    }\n",
              "</style>\n",
              "<table border=\"1\" class=\"dataframe\">\n",
              "  <thead>\n",
              "    <tr style=\"text-align: right;\">\n",
              "      <th></th>\n",
              "      <th>genres</th>\n",
              "    </tr>\n",
              "  </thead>\n",
              "  <tbody>\n",
              "    <tr>\n",
              "      <th>0</th>\n",
              "      <td>['music', 'comedy']</td>\n",
              "    </tr>\n",
              "    <tr>\n",
              "      <th>0</th>\n",
              "      <td>['documentation']</td>\n",
              "    </tr>\n",
              "  </tbody>\n",
              "</table>\n",
              "</div><br><label><b>dtype:</b> object</label>"
            ]
          },
          "metadata": {},
          "execution_count": 5
        }
      ]
    },
    {
      "cell_type": "code",
      "source": [
        "# Update the values in the genres column to be only one word\n",
        "\n",
        "import ast\n",
        "\n",
        "# Extracts the first genre from the genres 'list'\n",
        "def extractFirstGenre(genreString):\n",
        "    # Consider the genre missing if genreString is not a string and its length is less than or equal to 4\n",
        "    if not isinstance(genreString, str) or len(genreString) <= 4:\n",
        "        return pd.NA\n",
        "    try:\n",
        "        # Try to evaluate the genreString as a list\n",
        "        genreList = ast.literal_eval(genreString)\n",
        "        # Use the first value from this new list if it exists, otherwise consider the genre missing\n",
        "        return genreList[0] if isinstance(genreList, list) and genreList else pd.NA\n",
        "    except:\n",
        "        return pd.NA\n",
        "\n",
        "# Apply our defined function on the genres column\n",
        "combined_df['genres'] = combined_df['genres'].apply(extractFirstGenre)\n",
        "combined_df.reset_index(drop=True, inplace=True)\n",
        "\n",
        "print(\"# Unique Genres: \", combined_df['genres'].nunique())\n",
        "print(\"Unique Genres: \", combined_df['genres'].unique())"
      ],
      "metadata": {
        "colab": {
          "base_uri": "https://localhost:8080/"
        },
        "id": "VBZJs1XsgrY7",
        "outputId": "51e2c9c4-dee5-46f8-8e4a-fb4327e0e151"
      },
      "execution_count": 6,
      "outputs": [
        {
          "output_type": "stream",
          "name": "stdout",
          "text": [
            "# Unique Genres:  18\n",
            "Unique Genres:  ['music' 'war' 'comedy' 'drama' 'scifi' 'animation' 'family' 'fantasy'\n",
            " 'action' 'documentation' 'crime' 'reality' 'western' 'thriller' 'romance'\n",
            " <NA> 'horror' 'history' 'sport']\n"
          ]
        }
      ]
    },
    {
      "cell_type": "code",
      "source": [
        "# Post-transformation check. We expect each row for genres to be only one word.\n",
        "combined_df['genres']"
      ],
      "metadata": {
        "id": "NNjGbnV08OMQ",
        "outputId": "250818df-8573-4d0e-83ef-3048c8465e26",
        "colab": {
          "base_uri": "https://localhost:8080/",
          "height": 458
        }
      },
      "execution_count": 7,
      "outputs": [
        {
          "output_type": "execute_result",
          "data": {
            "text/plain": [
              "0         music\n",
              "1           war\n",
              "2        comedy\n",
              "3         drama\n",
              "4        comedy\n",
              "         ...   \n",
              "8243    romance\n",
              "8244      drama\n",
              "8245     comedy\n",
              "8246       <NA>\n",
              "8247     family\n",
              "Name: genres, Length: 8248, dtype: object"
            ],
            "text/html": [
              "<div>\n",
              "<style scoped>\n",
              "    .dataframe tbody tr th:only-of-type {\n",
              "        vertical-align: middle;\n",
              "    }\n",
              "\n",
              "    .dataframe tbody tr th {\n",
              "        vertical-align: top;\n",
              "    }\n",
              "\n",
              "    .dataframe thead th {\n",
              "        text-align: right;\n",
              "    }\n",
              "</style>\n",
              "<table border=\"1\" class=\"dataframe\">\n",
              "  <thead>\n",
              "    <tr style=\"text-align: right;\">\n",
              "      <th></th>\n",
              "      <th>genres</th>\n",
              "    </tr>\n",
              "  </thead>\n",
              "  <tbody>\n",
              "    <tr>\n",
              "      <th>0</th>\n",
              "      <td>music</td>\n",
              "    </tr>\n",
              "    <tr>\n",
              "      <th>1</th>\n",
              "      <td>war</td>\n",
              "    </tr>\n",
              "    <tr>\n",
              "      <th>2</th>\n",
              "      <td>comedy</td>\n",
              "    </tr>\n",
              "    <tr>\n",
              "      <th>3</th>\n",
              "      <td>drama</td>\n",
              "    </tr>\n",
              "    <tr>\n",
              "      <th>4</th>\n",
              "      <td>comedy</td>\n",
              "    </tr>\n",
              "    <tr>\n",
              "      <th>...</th>\n",
              "      <td>...</td>\n",
              "    </tr>\n",
              "    <tr>\n",
              "      <th>8243</th>\n",
              "      <td>romance</td>\n",
              "    </tr>\n",
              "    <tr>\n",
              "      <th>8244</th>\n",
              "      <td>drama</td>\n",
              "    </tr>\n",
              "    <tr>\n",
              "      <th>8245</th>\n",
              "      <td>comedy</td>\n",
              "    </tr>\n",
              "    <tr>\n",
              "      <th>8246</th>\n",
              "      <td>&lt;NA&gt;</td>\n",
              "    </tr>\n",
              "    <tr>\n",
              "      <th>8247</th>\n",
              "      <td>family</td>\n",
              "    </tr>\n",
              "  </tbody>\n",
              "</table>\n",
              "<p>8248 rows × 1 columns</p>\n",
              "</div><br><label><b>dtype:</b> object</label>"
            ]
          },
          "metadata": {},
          "execution_count": 7
        }
      ]
    },
    {
      "cell_type": "code",
      "source": [
        "# Sanity check\n",
        "combined_df.info()"
      ],
      "metadata": {
        "colab": {
          "base_uri": "https://localhost:8080/"
        },
        "id": "OxQJE79AcpJi",
        "outputId": "a80b2e64-0286-4617-9db7-1a6eced04204"
      },
      "execution_count": 8,
      "outputs": [
        {
          "output_type": "stream",
          "name": "stdout",
          "text": [
            "<class 'pandas.core.frame.DataFrame'>\n",
            "RangeIndex: 8248 entries, 0 to 8247\n",
            "Data columns (total 15 columns):\n",
            " #   Column                Non-Null Count  Dtype  \n",
            "---  ------                --------------  -----  \n",
            " 0   id                    8248 non-null   object \n",
            " 1   title                 8247 non-null   object \n",
            " 2   type                  8248 non-null   object \n",
            " 3   description           8217 non-null   object \n",
            " 4   release_year          8248 non-null   int64  \n",
            " 5   age_certification     4944 non-null   object \n",
            " 6   runtime               8248 non-null   int64  \n",
            " 7   genres                8165 non-null   object \n",
            " 8   production_countries  8248 non-null   object \n",
            " 9   seasons               3436 non-null   float64\n",
            " 10  imdb_id               7710 non-null   object \n",
            " 11  imdb_score            7600 non-null   float64\n",
            " 12  imdb_votes            7583 non-null   float64\n",
            " 13  tmdb_popularity       8107 non-null   float64\n",
            " 14  tmdb_score            7777 non-null   float64\n",
            "dtypes: float64(5), int64(2), object(8)\n",
            "memory usage: 966.7+ KB\n"
          ]
        }
      ]
    },
    {
      "cell_type": "code",
      "source": [
        "# Check for duplicate rows using the duplicated().sum() functions - returns number of duplicate rows\n",
        "num_duplicates = combined_df.duplicated().sum()\n",
        "print(\"Number of duplicate rows:\", num_duplicates)\n",
        "\n",
        "# Check if there are duplicate IDs\n",
        "duplicates_exist = combined_df['id'].duplicated().any()\n",
        "print(\"\\nAre there duplicate IDs?:\", duplicates_exist)\n",
        "\n",
        "# Find the unique duplicate values\n",
        "duplicate_values = combined_df[combined_df['id'].duplicated()]['id'].unique()\n",
        "print(\"\\nDuplicate ID values:\", duplicate_values)\n",
        "\n",
        "# Extract duplicate rows\n",
        "duplicate_rows_df = combined_df[combined_df['id'].duplicated(keep=False)]\n",
        "print(\"\\nRows with Duplicate IDs:\\n\", duplicate_rows_df)\n",
        "\n",
        "# Remove duplicates, keeping the row with the highest 'runtime'\n",
        "deduplicated_df = (\n",
        "    combined_df\n",
        "    .sort_values(by='runtime', ascending=False)\n",
        "    .drop_duplicates(subset=['id'], keep='first')\n",
        "    .sort_values(by='id')\n",
        "    .reset_index(drop=True)\n",
        ")\n",
        "\n",
        "duplicates_exist = deduplicated_df['id'].duplicated().any()\n",
        "print(\"\\nAre there duplicate IDs?:\", duplicates_exist)\n",
        "\n",
        "# Print the cleaned DataFrame without duplicate ids\n",
        "print(\"\\nDataFrame after removing duplicates while keeping the highest runtime:\\n\", deduplicated_df)\n",
        "\n",
        "deduplicated_df.info()"
      ],
      "metadata": {
        "colab": {
          "base_uri": "https://localhost:8080/"
        },
        "id": "vZ1a5Qswctpz",
        "outputId": "c114078b-884c-4504-ae6d-f70899f47c04"
      },
      "execution_count": 9,
      "outputs": [
        {
          "output_type": "stream",
          "name": "stdout",
          "text": [
            "Number of duplicate rows: 0\n",
            "\n",
            "Are there duplicate IDs?: True\n",
            "\n",
            "Duplicate ID values: ['tm180542' 'ts20678' 'ts20981' 'ts21223' 'ts20339' 'ts5145' 'ts34435'\n",
            " 'tm192037' 'tm49178' 'ts25252' 'ts21034' 'tm191772' 'ts21693' 'ts20939'\n",
            " 'ts12724' 'ts8308' 'ts21469' 'ts17156' 'ts22011' 'ts20604' 'ts11313'\n",
            " 'ts20305' 'ts21511' 'tm133767' 'ts2230' 'ts21197' 'ts30313' 'ts12787'\n",
            " 'ts35155' 'ts32186' 'tm148379' 'ts21740' 'ts20544' 'ts30288' 'ts25765'\n",
            " 'ts21688' 'tm114476' 'ts20526' 'ts31593' 'tm53999' 'ts56589' 'tm170442'\n",
            " 'ts32835' 'ts20433' 'ts20429' 'ts9246' 'tm174683' 'ts34151' 'ts191698'\n",
            " 'tm183176' 'ts20682' 'ts20351' 'ts16045' 'ts32218' 'ts20014' 'ts22426'\n",
            " 'ts521' 'ts37187' 'ts37143' 'ts37539' 'ts35201' 'ts35793' 'ts42014'\n",
            " 'tm140391' 'ts52922' 'ts42169' 'ts38116' 'tm312676' 'tm366889' 'tm244364'\n",
            " 'ts269185' 'tm414073' 'ts241248' 'ts84280' 'tm423436' 'tm363787'\n",
            " 'ts216746' 'ts87466' 'ts191559' 'ts84633' 'tm823545' 'tm426638' 'ts87471'\n",
            " 'tm463385' 'ts192297' 'ts252977' 'ts321614']\n",
            "\n",
            "Rows with Duplicate IDs:\n",
            "             id                        title   type  \\\n",
            "24    tm180542  Once Upon a Time in America  MOVIE   \n",
            "45     ts20678            Saved by the Bell   SHOW   \n",
            "62     ts20981                     Survivor   SHOW   \n",
            "66     ts21223                      Pokémon   SHOW   \n",
            "72     ts20339                    One Piece   SHOW   \n",
            "...        ...                          ...    ...   \n",
            "5753   ts87471                Darwin's Game   SHOW   \n",
            "5759  tm463385        Framing John DeLorean  MOVIE   \n",
            "6027  ts192297                      Morphle   SHOW   \n",
            "6989  ts252977  Baewatch: Parental Guidance   SHOW   \n",
            "7502  ts321614               Blippi Wonders   SHOW   \n",
            "\n",
            "                                            description  release_year  \\\n",
            "24    A former Prohibition-era Jewish gangster retur...          1984   \n",
            "45    Lovable schemer Zack Morris leads his pals on ...          1989   \n",
            "62    A reality show contest where sixteen or more c...          2000   \n",
            "66    Join Ash accompanied by his partner Pikachu, a...          1997   \n",
            "72    Years ago, the fearsome Pirate King, Gol D. Ro...          1999   \n",
            "...                                                 ...           ...   \n",
            "5753  Sudou Kaname, an ordinary high school student,...          2020   \n",
            "5759  A documentary interspersed with acted scenes, ...          2019   \n",
            "6027  Mila's dad runs the only magic pet store in th...          2019   \n",
            "6989  Couples go on a romantic getaway to test their...          2019   \n",
            "7502  Ever curious Blippi sets off on comedic and fu...          2021   \n",
            "\n",
            "     age_certification  runtime     genres production_countries  seasons  \\\n",
            "24                   R      229      drama         ['US', 'IT']      NaN   \n",
            "45                TV-G       23     comedy               ['US']      5.0   \n",
            "62               TV-PG       48    reality               ['US']     42.0   \n",
            "66               TV-Y7       22      scifi               ['JP']     24.0   \n",
            "72               TV-14       23     action               ['JP']     21.0   \n",
            "...                ...      ...        ...                  ...      ...   \n",
            "5753             TV-14       25     action               ['JP']      1.0   \n",
            "5759               NaN      109      drama               ['US']      NaN   \n",
            "6027              TV-Y       10  animation         ['NL', 'GB']      5.0   \n",
            "6989             TV-MA       47       <NA>                   []      1.0   \n",
            "7502              TV-Y        7  animation               ['US']      1.0   \n",
            "\n",
            "         imdb_id  imdb_score  imdb_votes  tmdb_popularity  tmdb_score  \n",
            "24     tt0087843         8.3    342335.0           21.322        8.40  \n",
            "45     tt0096694         7.1     34854.0           16.945        8.00  \n",
            "62     tt0239195         7.4     24368.0           73.107        7.30  \n",
            "66     tt0168366         7.6       172.0          138.135        7.60  \n",
            "72     tt0388629         8.8    112586.0          105.955        8.80  \n",
            "...          ...         ...         ...              ...         ...  \n",
            "5753  tt11405390         7.2      2440.0           14.208        7.86  \n",
            "5759   tt6256978         6.5      2331.0            4.842        6.20  \n",
            "6027  tt10087694         5.2        83.0            0.832       10.00  \n",
            "6989         NaN         NaN         NaN            0.606         NaN  \n",
            "7502  tt19315934         5.1        21.0            1.557        7.00  \n",
            "\n",
            "[174 rows x 15 columns]\n",
            "\n",
            "Are there duplicate IDs?: False\n",
            "\n",
            "DataFrame after removing duplicates while keeping the highest runtime:\n",
            "              id                             title   type  \\\n",
            "0     tm1000037                      Je suis Karl  MOVIE   \n",
            "1     tm1000070    Bad Luck Banging or Loony Porn  MOVIE   \n",
            "2     tm1000147                          Zone 414  MOVIE   \n",
            "3      tm100015                            Takers  MOVIE   \n",
            "4     tm1000166  Wave of Cinema: Surat Dari Timur  MOVIE   \n",
            "...         ...                               ...    ...   \n",
            "8156    ts98340   Metallica: Some Kind of Monster   SHOW   \n",
            "8157    ts98353         DreamWorks Spooky Stories   SHOW   \n",
            "8158      ts987                      Danger Mouse   SHOW   \n",
            "8159     ts9904                         Bring It!   SHOW   \n",
            "8160    ts99814                          Masameer   SHOW   \n",
            "\n",
            "                                            description  release_year  \\\n",
            "0     After most of her family is murdered in a terr...          2021   \n",
            "1     Emi, a school teacher, finds her career and re...          2021   \n",
            "2     In the near future on a colony of state-of-the...          2021   \n",
            "3     A seasoned team of bank robbers, including Gor...          2010   \n",
            "4     Featuring a mix of film footage and special pe...          2020   \n",
            "...                                                 ...           ...   \n",
            "8156  This collection includes the acclaimed rock do...          2004   \n",
            "8157  A collection of animated tales includes shrek'...          2009   \n",
            "8158  Danger Mouse, the world's greatest secret agen...          1981   \n",
            "8159  A spotlight on the elite world of hip-hop majo...          2014   \n",
            "8160  A popular Saudi animation show talks sarcastic...          2011   \n",
            "\n",
            "     age_certification  runtime     genres  \\\n",
            "0                    R      126      drama   \n",
            "1                  NaN      106      drama   \n",
            "2                    R       98      scifi   \n",
            "3                PG-13      107     action   \n",
            "4                  NaN       57      music   \n",
            "...                ...      ...        ...   \n",
            "8156             TV-MA       84    western   \n",
            "8157             TV-PG       26  animation   \n",
            "8158              TV-Y       14  animation   \n",
            "8159             TV-PG       42    reality   \n",
            "8160             TV-MA       14     comedy   \n",
            "\n",
            "                      production_countries  seasons     imdb_id  imdb_score  \\\n",
            "0                             ['CZ', 'DE']      NaN   tt9205538         5.4   \n",
            "1     ['HR', 'LU', 'GB', 'RO', 'CH', 'CZ']      NaN  tt14033502         6.6   \n",
            "2                                   ['GB']      NaN   tt8545482         4.9   \n",
            "3                                   ['US']      NaN   tt1135084         6.2   \n",
            "4                                   ['ID']      NaN         NaN         NaN   \n",
            "...                                    ...      ...         ...         ...   \n",
            "8156                          ['CA', 'US']      1.0   tt6954486         NaN   \n",
            "8157                                ['US']      1.0   tt6958564         6.2   \n",
            "8158                                ['GB']     10.0   tt0081848         7.4   \n",
            "8159                                ['US']      6.0   tt3704280         6.6   \n",
            "8160                                ['SA']      1.0   tt6298258         8.2   \n",
            "\n",
            "      imdb_votes  tmdb_popularity  tmdb_score  \n",
            "0         1077.0           12.981       5.500  \n",
            "1         6465.0           27.554       6.500  \n",
            "2         4146.0          121.562       5.400  \n",
            "3        62464.0           15.872       6.228  \n",
            "4            NaN            0.660         NaN  \n",
            "...          ...              ...         ...  \n",
            "8156         NaN            0.893         NaN  \n",
            "8157        19.0            0.880         NaN  \n",
            "8158      3545.0            8.550       7.500  \n",
            "8159       531.0            4.184       9.000  \n",
            "8160       687.0              NaN         NaN  \n",
            "\n",
            "[8161 rows x 15 columns]\n",
            "<class 'pandas.core.frame.DataFrame'>\n",
            "RangeIndex: 8161 entries, 0 to 8160\n",
            "Data columns (total 15 columns):\n",
            " #   Column                Non-Null Count  Dtype  \n",
            "---  ------                --------------  -----  \n",
            " 0   id                    8161 non-null   object \n",
            " 1   title                 8160 non-null   object \n",
            " 2   type                  8161 non-null   object \n",
            " 3   description           8130 non-null   object \n",
            " 4   release_year          8161 non-null   int64  \n",
            " 5   age_certification     4864 non-null   object \n",
            " 6   runtime               8161 non-null   int64  \n",
            " 7   genres                8079 non-null   object \n",
            " 8   production_countries  8161 non-null   object \n",
            " 9   seasons               3370 non-null   float64\n",
            " 10  imdb_id               7625 non-null   object \n",
            " 11  imdb_score            7516 non-null   float64\n",
            " 12  imdb_votes            7499 non-null   float64\n",
            " 13  tmdb_popularity       8020 non-null   float64\n",
            " 14  tmdb_score            7691 non-null   float64\n",
            "dtypes: float64(5), int64(2), object(8)\n",
            "memory usage: 956.5+ KB\n"
          ]
        }
      ]
    },
    {
      "cell_type": "code",
      "source": [
        "# Combine the imdb_score and tmdb_score columns into one, averaged column.\n",
        "\n",
        "# Transform tmdb_score to match imdb_score's scale (1-10)\n",
        "deduplicated_df[\"tmdb_score_scaled\"] = deduplicated_df[\"tmdb_score\"] * (9/10) + 1\n",
        "\n",
        "# Compute the final combined score (average)\n",
        "deduplicated_df[\"average_score\"] = deduplicated_df[[\"tmdb_score_scaled\", \"imdb_score\"]].mean(axis=1, skipna=True)\n",
        "\n",
        "# Print final number of rows after filtering\n",
        "print(\"Final number of rows after removing rows with no scores:\", len(deduplicated_df))\n",
        "\n",
        "deduplicated_df.info()"
      ],
      "metadata": {
        "colab": {
          "base_uri": "https://localhost:8080/"
        },
        "id": "KCLs6qgpcxZq",
        "outputId": "cd874d98-86dc-49cc-eb56-5d5c104e297d"
      },
      "execution_count": 10,
      "outputs": [
        {
          "output_type": "stream",
          "name": "stdout",
          "text": [
            "Final number of rows after removing rows with no scores: 8161\n",
            "<class 'pandas.core.frame.DataFrame'>\n",
            "RangeIndex: 8161 entries, 0 to 8160\n",
            "Data columns (total 17 columns):\n",
            " #   Column                Non-Null Count  Dtype  \n",
            "---  ------                --------------  -----  \n",
            " 0   id                    8161 non-null   object \n",
            " 1   title                 8160 non-null   object \n",
            " 2   type                  8161 non-null   object \n",
            " 3   description           8130 non-null   object \n",
            " 4   release_year          8161 non-null   int64  \n",
            " 5   age_certification     4864 non-null   object \n",
            " 6   runtime               8161 non-null   int64  \n",
            " 7   genres                8079 non-null   object \n",
            " 8   production_countries  8161 non-null   object \n",
            " 9   seasons               3370 non-null   float64\n",
            " 10  imdb_id               7625 non-null   object \n",
            " 11  imdb_score            7516 non-null   float64\n",
            " 12  imdb_votes            7499 non-null   float64\n",
            " 13  tmdb_popularity       8020 non-null   float64\n",
            " 14  tmdb_score            7691 non-null   float64\n",
            " 15  tmdb_score_scaled     7691 non-null   float64\n",
            " 16  average_score         8039 non-null   float64\n",
            "dtypes: float64(7), int64(2), object(8)\n",
            "memory usage: 1.1+ MB\n"
          ]
        }
      ]
    },
    {
      "cell_type": "code",
      "source": [
        "# Remove specified columns from the dataset using \"drop()\"\n",
        "deduplicated_df = deduplicated_df.drop(columns=['description', 'id', 'imdb_id', 'imdb_score', 'tmdb_score', 'tmdb_score_scaled'])\n",
        "deduplicated_df.info()"
      ],
      "metadata": {
        "colab": {
          "base_uri": "https://localhost:8080/"
        },
        "id": "mz9uJEC4c5lx",
        "outputId": "b1f91db6-107a-4a63-a231-a92b7175fead"
      },
      "execution_count": 11,
      "outputs": [
        {
          "output_type": "stream",
          "name": "stdout",
          "text": [
            "<class 'pandas.core.frame.DataFrame'>\n",
            "RangeIndex: 8161 entries, 0 to 8160\n",
            "Data columns (total 11 columns):\n",
            " #   Column                Non-Null Count  Dtype  \n",
            "---  ------                --------------  -----  \n",
            " 0   title                 8160 non-null   object \n",
            " 1   type                  8161 non-null   object \n",
            " 2   release_year          8161 non-null   int64  \n",
            " 3   age_certification     4864 non-null   object \n",
            " 4   runtime               8161 non-null   int64  \n",
            " 5   genres                8079 non-null   object \n",
            " 6   production_countries  8161 non-null   object \n",
            " 7   seasons               3370 non-null   float64\n",
            " 8   imdb_votes            7499 non-null   float64\n",
            " 9   tmdb_popularity       8020 non-null   float64\n",
            " 10  average_score         8039 non-null   float64\n",
            "dtypes: float64(4), int64(2), object(5)\n",
            "memory usage: 701.5+ KB\n"
          ]
        }
      ]
    },
    {
      "cell_type": "code",
      "source": [
        "print(\"# Unique Genres: \", deduplicated_df['genres'].nunique())\n",
        "print(\"Unique Genres: \", deduplicated_df['genres'].unique())"
      ],
      "metadata": {
        "colab": {
          "base_uri": "https://localhost:8080/"
        },
        "id": "DGh9IYfBgi9A",
        "outputId": "c6f1e615-7ba4-47a1-ff26-796586e429db"
      },
      "execution_count": 12,
      "outputs": [
        {
          "output_type": "stream",
          "name": "stdout",
          "text": [
            "# Unique Genres:  18\n",
            "Unique Genres:  ['drama' 'scifi' 'action' 'music' 'comedy' 'animation' 'thriller'\n",
            " 'documentation' 'romance' 'family' 'fantasy' 'horror' 'crime' 'sport'\n",
            " <NA> 'history' 'war' 'western' 'reality']\n"
          ]
        }
      ]
    },
    {
      "cell_type": "code",
      "source": [
        "# Function to sort production_countries\n",
        "def sort_countries(country_str):\n",
        "    try:\n",
        "        # Convert string to list\n",
        "        country_list = ast.literal_eval(country_str)  # Converts string list to actual list\n",
        "        # Sort list alphabetically\n",
        "        country_list_sorted = sorted(country_list)\n",
        "        # Convert back to string for consistency\n",
        "        return str(country_list_sorted)\n",
        "    except:\n",
        "        return country_str  # Return as is if there's an issue\n",
        "\n",
        "deduplicated_df[\"production_countries\"] = deduplicated_df[\"production_countries\"].apply(sort_countries)\n",
        "\n",
        "deduplicated_df.info()"
      ],
      "metadata": {
        "colab": {
          "base_uri": "https://localhost:8080/"
        },
        "id": "oUCztcj7fSaO",
        "outputId": "9f4afff9-ea6f-4dd5-9a90-1b81e266a7d7"
      },
      "execution_count": 13,
      "outputs": [
        {
          "output_type": "stream",
          "name": "stdout",
          "text": [
            "<class 'pandas.core.frame.DataFrame'>\n",
            "RangeIndex: 8161 entries, 0 to 8160\n",
            "Data columns (total 11 columns):\n",
            " #   Column                Non-Null Count  Dtype  \n",
            "---  ------                --------------  -----  \n",
            " 0   title                 8160 non-null   object \n",
            " 1   type                  8161 non-null   object \n",
            " 2   release_year          8161 non-null   int64  \n",
            " 3   age_certification     4864 non-null   object \n",
            " 4   runtime               8161 non-null   int64  \n",
            " 5   genres                8079 non-null   object \n",
            " 6   production_countries  8161 non-null   object \n",
            " 7   seasons               3370 non-null   float64\n",
            " 8   imdb_votes            7499 non-null   float64\n",
            " 9   tmdb_popularity       8020 non-null   float64\n",
            " 10  average_score         8039 non-null   float64\n",
            "dtypes: float64(4), int64(2), object(5)\n",
            "memory usage: 701.5+ KB\n"
          ]
        }
      ]
    },
    {
      "cell_type": "code",
      "source": [
        "print(deduplicated_df['production_countries'])\n",
        "print(\"# Unique Production Coutnries: \", deduplicated_df['production_countries'].nunique())\n",
        "print(\"Unique Production Countries: \", deduplicated_df['production_countries'].unique())"
      ],
      "metadata": {
        "colab": {
          "base_uri": "https://localhost:8080/"
        },
        "id": "7UZceDGVhqmQ",
        "outputId": "f5d9458f-4428-4bf5-8529-6986c56d446d"
      },
      "execution_count": 14,
      "outputs": [
        {
          "output_type": "stream",
          "name": "stdout",
          "text": [
            "0                               ['CZ', 'DE']\n",
            "1       ['CH', 'CZ', 'GB', 'HR', 'LU', 'RO']\n",
            "2                                     ['GB']\n",
            "3                                     ['US']\n",
            "4                                     ['ID']\n",
            "                        ...                 \n",
            "8156                            ['CA', 'US']\n",
            "8157                                  ['US']\n",
            "8158                                  ['GB']\n",
            "8159                                  ['US']\n",
            "8160                                  ['SA']\n",
            "Name: production_countries, Length: 8161, dtype: object\n",
            "# Unique Production Coutnries:  483\n",
            "Unique Production Countries:  [\"['CZ', 'DE']\" \"['CH', 'CZ', 'GB', 'HR', 'LU', 'RO']\" \"['GB']\" \"['US']\"\n",
            " \"['ID']\" \"['PL']\" \"['IN', 'SU']\" \"['CN']\" \"['NG']\" \"['BR']\"\n",
            " \"['CA', 'NZ']\" \"['IN']\" \"['JP']\" \"['PH']\" \"['RU', 'US']\" \"['TW']\"\n",
            " \"['DE']\" \"['CA', 'US']\" \"['GB', 'IT']\" \"['KR', 'PL', 'US']\"\n",
            " \"['FR', 'US']\" \"['GB', 'US']\" '[]' \"['KR']\" \"['ES', 'FR', 'MX']\" \"['NL']\"\n",
            " \"['ES']\" \"['DK', 'IS']\" \"['ZA']\" \"['TR']\" \"['IT']\" \"['CH', 'DE']\"\n",
            " \"['SA']\" \"['MX']\" \"['AU', 'US']\" \"['HK', 'NZ']\" \"['DE', 'US']\" \"['FR']\"\n",
            " \"['EG']\" \"['CN', 'US']\" \"['VN']\" \"['KE']\" \"['DE', 'GB']\" \"['HK']\"\n",
            " \"['AU']\" \"['CA']\" \"['BE', 'NL']\" \"['CN', 'GB', 'MY', 'US']\"\n",
            " \"['CN', 'HK']\" \"['FI', 'FR', 'NO', 'SE']\" \"['CL', 'DE', 'GB', 'US']\"\n",
            " \"['PS']\" \"['CA', 'HU']\" \"['JP', 'US']\" \"['SE']\" \"['AR']\" \"['BR', 'IT']\"\n",
            " \"['TH']\" \"['AF']\" \"['GB', 'ZA']\" \"['CA', 'NG']\" \"['MX', 'US']\" \"['NO']\"\n",
            " \"['JP', 'TH', 'US']\" \"['LB']\" \"['CL', 'CN', 'IR', 'TH', 'US']\" \"['FI']\"\n",
            " \"['CO']\" \"['RO', 'SE']\" \"['CM']\" \"['CH', 'GB', 'HU', 'NL']\"\n",
            " \"['BR', 'US']\" \"['BE', 'FR']\" \"['NL', 'US']\" \"['GB', 'GR', 'US']\"\n",
            " \"['CZ', 'US']\" \"['GB', 'TZ']\" \"['CL', 'PE']\" \"['GB', 'SE']\"\n",
            " \"['BY', 'FR', 'KZ', 'US']\" \"['FO', 'PH']\" \"['DE', 'GB', 'US']\"\n",
            " \"['RO', 'US']\" \"['CA', 'DE', 'FR', 'GB', 'US']\"\n",
            " \"['DE', 'FR', 'PS', 'US']\" \"['DE', 'FR', 'MA', 'PS']\"\n",
            " \"['CA', 'GB', 'US']\" \"['ES', 'FR']\" \"['CA', 'GB']\" \"['IL']\" \"['TZ']\"\n",
            " \"['CA', 'ZA']\" \"['GB', 'IE']\" \"['MY']\" \"['XX']\" \"['ES', 'PE']\"\n",
            " \"['EG', 'FR']\" \"['DK']\" \"['PE']\" \"['PH', 'PS']\" \"['DE', 'FR']\"\n",
            " \"['AU', 'FR', 'US', 'ZA', 'ZW']\" \"['KW']\" \"['ES', 'US']\"\n",
            " \"['FR', 'MT', 'US']\" \"['ES', 'GB', 'US']\" \"['FR', 'LB']\" \"['FR', 'GB']\"\n",
            " \"['GB', 'IL', 'US']\" \"['GH', 'US']\" \"['HK', 'JP', 'US']\" \"['CD', 'GB']\"\n",
            " \"['FR', 'IR', 'US']\" \"['DE', 'DK']\" \"['FR', 'GB', 'US']\"\n",
            " \"['CA', 'CN', 'GB', 'US']\" \"['MX', 'US', 'ZA']\" \"['BG', 'GB', 'US']\"\n",
            " \"['CA', 'FR', 'GB']\" \"['AE', 'GB', 'IE', 'IL', 'IS', 'NO', 'ZA']\"\n",
            " \"['CS', 'DE', 'GB', 'NO', 'US']\" \"['AR', 'VE']\"\n",
            " \"['BR', 'DK', 'FR', 'PT', 'SE']\" \"['IT', 'US']\"\n",
            " \"['CN', 'DE', 'SG', 'UA', 'US']\" \"['AF', 'US']\"\n",
            " \"['AU', 'DE', 'GB', 'US']\" \"['CA', 'KR']\" \"['CN', 'GB', 'US']\"\n",
            " \"['BE', 'DE', 'FR', 'IL', 'IN', 'LU', 'PL', 'US']\"\n",
            " \"['DE', 'FR', 'KW', 'PS']\" \"['AU', 'GB', 'US']\" \"['VE']\" \"['AE', 'US']\"\n",
            " \"['CZ', 'DK', 'GB', 'NL', 'SE']\" \"['CA', 'CL', 'US']\" \"['DK', 'US']\"\n",
            " \"['BE']\" \"['HK', 'JP']\" \"['DE', 'FR', 'GB']\" \"['DE', 'US', 'ZA']\"\n",
            " \"['CA', 'FR', 'US']\" \"['AE', 'NL', 'PS', 'US']\"\n",
            " \"['DE', 'FR', 'GB', 'US']\" \"['HU', 'IT', 'US']\" \"['US', 'ZA']\"\n",
            " \"['DE', 'FR', 'NO', 'SE', 'US']\" \"['NG', 'US']\" \"['AE', 'LB']\"\n",
            " \"['DE', 'FR', 'IT', 'PS']\" \"['AU', 'CH', 'GB']\" \"['GR', 'US']\"\n",
            " \"['DE', 'IN']\" \"['CA', 'MX']\" \"['GB', 'JP', 'US']\" \"['FR', 'IT', 'US']\"\n",
            " \"['EG', 'GB', 'US']\" \"['BE', 'DK', 'NL']\" \"['CN', 'ES', 'US']\"\n",
            " \"['BF', 'DE', 'GB', 'GH', 'US']\" \"['AR', 'ES']\" \"['BR', 'PE', 'US']\"\n",
            " \"['HK', 'US']\" \"['BE', 'DE', 'DK', 'GB', 'US']\"\n",
            " \"['CA', 'DE', 'FI', 'FR', 'SE']\" \"['IE', 'ZA']\"\n",
            " \"['BE', 'ES', 'FR', 'GB', 'PT']\" \"['FR', 'GB', 'LU', 'US']\"\n",
            " \"['CH', 'US']\" \"['CL']\" \"['FR', 'MA']\"\n",
            " \"['CA', 'CN', 'GB', 'ID', 'SG', 'US']\" \"['CA', 'FR']\"\n",
            " \"['DE', 'FR', 'PS']\" \"['FR', 'IS', 'UA']\" \"['DE', 'FR', 'NO', 'SE']\"\n",
            " \"['BG']\" \"['DO', 'US']\" \"['CA', 'IE']\" \"['GB', 'UA', 'US']\"\n",
            " \"['LB', 'QA']\" \"['AE', 'FR', 'JO', 'LB', 'PS', 'QA']\"\n",
            " \"['CA', 'DE', 'GB']\" \"['Lebanon']\" \"['RO']\" \"['NZ']\"\n",
            " \"['FR', 'GB', 'NL', 'US']\" \"['NO', 'SE']\" \"['GB', 'IN']\" \"['DE', 'ZA']\"\n",
            " \"['GB', 'IR', 'JO', 'QA']\" \"['BE', 'FR', 'GB']\" \"['BE', 'FR', 'RO']\"\n",
            " \"['CN', 'GB', 'IN', 'US']\" \"['DE', 'LB']\" \"['AT']\" \"['DK', 'SE']\"\n",
            " \"['BE', 'CZ', 'DE', 'FR']\" \"['CA', 'ES', 'GB', 'HU', 'MX', 'US']\"\n",
            " \"['AR', 'CL']\" \"['CA', 'HK', 'LU', 'US']\" \"['DE', 'DK', 'FR', 'SE']\"\n",
            " \"['SE', 'US']\" \"['FR', 'IE', 'US']\" \"['DE', 'IE', 'US']\" \"['CA', 'ES']\"\n",
            " \"['GB', 'NL']\" \"['KR', 'US']\" \"['CZ', 'GB', 'US']\"\n",
            " \"['CN', 'GB', 'PR', 'US']\" \"['ES', 'FR', 'IT']\"\n",
            " \"['DK', 'FR', 'NO', 'SE']\" \"['DE', 'JO', 'NL']\" \"['FR', 'QA']\"\n",
            " \"['CA', 'CN', 'US']\" \"['CL', 'FR']\" \"['TN']\" \"['AE']\" \"['GB', 'IQ']\"\n",
            " \"['FR', 'GL']\" \"['BE', 'CH', 'FR']\" \"['GB', 'SY']\" \"['CA', 'FR', 'LB']\"\n",
            " \"['DE', 'ES']\" \"['FR', 'IT']\" \"['GB', 'IE', 'US']\" \"['AT', 'US']\"\n",
            " \"['BE', 'FR', 'US']\" \"['CA', 'CN', 'FR']\"\n",
            " \"['BE', 'DE', 'FR', 'GB', 'RO']\" \"['UA']\" \"['DE', 'FR', 'GE']\"\n",
            " \"['KH', 'US']\" \"['TR', 'US']\" \"['KH']\" \"['BE', 'CH', 'ES', 'FR', 'PS']\"\n",
            " \"['AU', 'CA', 'GB', 'US']\" \"['CL', 'FR', 'NL']\" \"['HU']\" \"['IE']\"\n",
            " \"['ES', 'MX']\" \"['GB', 'JP', 'KR']\" \"['CH', 'FR', 'GB', 'US']\"\n",
            " \"['CH', 'FR', 'PS', 'QA']\" \"['DE', 'DK', 'GB', 'NL']\"\n",
            " \"['DK', 'GB', 'ID', 'NO']\" \"['CZ']\" \"['CD']\" \"['BE', 'BR', 'ES', 'FR']\"\n",
            " \"['BE', 'FR', 'GB', 'IT']\"\n",
            " \"['AT', 'GR', 'HU', 'IN', 'NZ', 'PL', 'TR', 'US']\" \"['IS']\"\n",
            " \"['IN', 'US']\" \"['BE', 'FR', 'NL']\" \"['CA', 'JP', 'US']\"\n",
            " \"['FR', 'LU', 'US']\" \"['DK', 'GB', 'GR']\"\n",
            " \"['AR', 'CH', 'CO', 'DE', 'DK', 'FR', 'NL', 'SE', 'US', 'UY']\"\n",
            " \"['IN', 'MX']\" \"['FR', 'JP']\" \"['AU', 'CN', 'US']\" \"['DK', 'GB', 'US']\"\n",
            " \"['DK', 'ES']\" \"['BD', 'IN']\" \"['CA', 'FI', 'GB', 'US']\"\n",
            " \"['BG', 'GB', 'IL', 'MA', 'US']\" \"['GB', 'IS']\" \"['BG', 'US']\"\n",
            " \"['AU', 'IN', 'SG', 'US']\" \"['GB', 'IL', 'IT', 'PE', 'US']\"\n",
            " \"['AR', 'FR']\" \"['IS', 'NO', 'US']\" \"['CZ', 'ES', 'MT', 'RS', 'US']\"\n",
            " \"['CU', 'US']\" \"['AR', 'BR', 'DE', 'DK', 'FR', 'PL']\" \"['PK']\"\n",
            " \"['CZ', 'SK', 'UA']\" \"['BE', 'GB', 'US']\" \"['DE', 'IT']\" \"['LB', 'PS']\"\n",
            " \"['CA', 'CN', 'DE', 'US']\" \"['DE', 'GB', 'NZ']\" \"['BE', 'ES']\"\n",
            " \"['EE', 'ES']\" \"['BE', 'FR', 'IT']\" \"['GE']\" \"['GH']\"\n",
            " \"['FR', 'JP', 'KR']\" \"['BE', 'IS', 'SE']\" \"['MX', 'NL']\"\n",
            " \"['FR', 'JP', 'US']\" \"['CH']\" \"['PL', 'RS', 'RU']\" \"['IN', 'NP']\"\n",
            " \"['DK', 'SE', 'US']\" \"['GB', 'SG', 'US']\" \"['DE', 'NO', 'PE']\"\n",
            " \"['FR', 'IN', 'SG']\" \"['GB', 'NO', 'SE']\" \"['CA', 'ES', 'FR', 'US']\"\n",
            " \"['HK', 'IS', 'US']\" \"['ID', 'MY', 'SG']\" \"['AT', 'DE', 'GB']\"\n",
            " \"['DE', 'FR', 'RO', 'SE']\" \"['CH', 'DE', 'FR', 'IT', 'VA']\"\n",
            " \"['FR', 'RO', 'RU', 'US']\" \"['DE', 'NO']\" \"['BE', 'CZ', 'RU']\"\n",
            " \"['CL', 'MX', 'US']\" \"['CO', 'MX']\" \"['BS', 'CZ', 'DE', 'GB', 'US']\"\n",
            " \"['CA', 'DE', 'FR', 'US']\" \"['CN', 'JP']\" \"['DK', 'NL', 'NO', 'SE']\"\n",
            " \"['AR', 'US']\" \"['ES', 'IT']\" \"['FR', 'IN']\" \"['DK', 'NO', 'SE']\"\n",
            " \"['CH', 'FR', 'IT']\" \"['AL', 'CH', 'IT', 'PL']\"\n",
            " \"['BE', 'FR', 'QA', 'TN']\" \"['AR', 'IT']\" \"['BE', 'FR', 'KH', 'LU']\"\n",
            " \"['BE', 'DE']\" \"['CA', 'DE', 'US']\" \"['PR', 'US']\" \"['FI', 'MX']\"\n",
            " \"['ZW']\" \"['FR', 'NL', 'SG']\" \"['DE', 'DK', 'NO']\" \"['AR', 'ES', 'UY']\"\n",
            " \"['FR', 'LB', 'QA', 'SY']\" \"['CN', 'FR', 'TW', 'US']\" \"['CA', 'CN']\"\n",
            " \"['CA', 'FR', 'LU']\" \"['AT', 'IQ', 'US']\" \"['PY']\" \"['AR', 'RS', 'UY']\"\n",
            " \"['ES', 'MX', 'UY']\" \"['TW', 'US']\" \"['AT', 'DE', 'IN']\" \"['AR', 'MX']\"\n",
            " \"['AU', 'CA', 'CN', 'US']\" \"['CA', 'IT', 'MC', 'US']\" \"['PH', 'SG']\"\n",
            " \"['PL', 'US']\" \"['CA', 'US', 'ZA']\" \"['MK']\"\n",
            " \"['CA', 'DE', 'DK', 'FR', 'GB', 'SE', 'US']\" \"['FR', 'QA', 'TN']\"\n",
            " \"['BE', 'DK', 'FI', 'GB', 'IS', 'NO', 'SE']\" \"['GB', 'MW', 'US']\"\n",
            " \"['BE', 'GB', 'SE']\" \"['SG']\" \"['DE', 'FR', 'IL', 'US']\"\n",
            " \"['ES', 'FR', 'US']\" \"['GB', 'PL', 'UA']\" \"['CA', 'NO']\" \"['RU']\"\n",
            " \"['CA', 'IT', 'KE', 'US']\" \"['BD']\" \"['AR', 'CA', 'CL']\" \"['GB', 'JP']\"\n",
            " \"['CN', 'ES']\" \"['BE', 'FR', 'SN']\" \"['AR', 'DE', 'JP', 'US']\"\n",
            " \"['AU', 'GB']\" \"['FR', 'MA', 'QA']\" \"['PT', 'US']\" \"['JP', 'PH']\"\n",
            " \"['GB', 'TW']\" \"['NG', 'NO']\" \"['IE', 'US']\" \"['KG']\" \"['ES', 'PT']\"\n",
            " \"['AL', 'JO', 'TH', 'US']\" \"['DE', 'FR', 'US']\" \"['BE', 'DE', 'ES']\"\n",
            " \"['BE', 'FR', 'LB', 'NO']\" \"['UY']\" \"['DE', 'FR', 'GB', 'IE']\"\n",
            " \"['CA', 'ES', 'JP']\" \"['AU', 'CA', 'GB', 'GR', 'NZ']\"\n",
            " \"['FR', 'IN', 'QA']\" \"['DK', 'NL', 'SE']\" \"['HK', 'PH']\"\n",
            " \"['BE', 'FR', 'IT', 'LB']\" \"['FR', 'GB', 'LB']\"\n",
            " \"['AR', 'BR', 'CH', 'DE', 'MX', 'QA', 'US']\" \"['CA', 'LB', 'NL', 'US']\"\n",
            " \"['AR', 'DE', 'ES', 'UY']\" \"['CO', 'US']\" \"['BE', 'LT', 'NL']\"\n",
            " \"['MY', 'SG']\" \"['CZ', 'FR', 'GB']\" \"['PH', 'US']\" \"['BE', 'IE']\"\n",
            " \"['BE', 'FR', 'LU']\" \"['DK', 'LB', 'PS']\" \"['BT', 'CN']\"\n",
            " \"['BE', 'GB', 'IE', 'SE', 'US']\" \"['EG', 'SA']\" \"['IL', 'US']\"\n",
            " \"['LB', 'NL', 'PS', 'US']\" \"['CA', 'IE', 'US']\" \"['BE', 'DE', 'FR']\"\n",
            " \"['AU', 'BE']\" \"['GT', 'UY']\" \"['CL', 'DE', 'ES', 'NL', 'US']\"\n",
            " \"['CN', 'DE', 'GB']\" \"['AU', 'CA', 'GB', 'US', 'ZA']\" \"['BR', 'FR']\"\n",
            " \"['MU']\" \"['ES', 'NO', 'US']\" \"['DK', 'GB', 'LB']\"\n",
            " \"['BE', 'DE', 'FR', 'MX', 'SE']\" \"['AT', 'DE', 'FR', 'GB', 'NG', 'US']\"\n",
            " \"['PS', 'QA']\" \"['AF', 'DE', 'PS']\" \"['GB', 'NL', 'PL', 'UA', 'US']\"\n",
            " \"['FR', 'LU']\" \"['AR', 'ES', 'FR']\" \"['DZ', 'EG']\" \"['AR', 'CO']\"\n",
            " \"['NA']\" \"['AT', 'BA', 'DE', 'FR', 'NL', 'NO', 'PL', 'RO', 'TR']\"\n",
            " \"['DE', 'SE']\" \"['CO', 'FR', 'MX']\"\n",
            " \"['BE', 'CY', 'DE', 'FR', 'QA', 'SE', 'TN']\" \"['DE', 'FR', 'IT']\"\n",
            " \"['CA', 'HU', 'US']\" \"['CA', 'CI', 'FR']\" \"['NZ', 'US']\"\n",
            " \"['DE', 'DK', 'EG']\" \"['GB', 'US', 'ZA']\" \"['TH', 'US']\" \"['AO', 'ZA']\"\n",
            " \"['CY', 'US']\" \"['CN', 'JP', 'US']\" \"['BE', 'ES', 'US']\"\n",
            " \"['CA', 'FR', 'GB', 'JP', 'US']\" \"['FR', 'GB', 'LT']\" \"['FI', 'NO']\"\n",
            " \"['ES', 'FR', 'GB', 'US']\" \"['AT', 'GB', 'US']\" \"['IR', 'US']\"\n",
            " \"['BR', 'MX']\" \"['EG', 'US']\" \"['CA', 'LK']\" \"['AE', 'LB', 'US']\"\n",
            " \"['AT', 'DE']\" \"['IN', 'SG', 'US']\" \"['CO', 'ES']\" \"['GB', 'MT', 'US']\"\n",
            " \"['CA', 'IN', 'US']\" \"['CN', 'GB']\" \"['CN', 'TW']\" \"['BE', 'DE', 'GB']\"\n",
            " \"['DK', 'EE', 'ES', 'FI', 'FR', 'IT', 'NO', 'SE', 'SI', 'US']\"\n",
            " \"['EG', 'GB']\" \"['SN']\" \"['BY']\" \"['AU', 'GB', 'NZ', 'US']\"\n",
            " \"['ES', 'GB']\" \"['LU']\" \"['AR', 'PE']\" \"['MY', 'TW']\" \"['IO']\"\n",
            " \"['SG', 'US']\" \"['PT']\" \"['BE', 'LU']\" \"['ES', 'KN']\" \"['AU', 'DE']\"\n",
            " \"['BE', 'US']\" \"['EG', 'LB', 'MA', 'SA', 'TN']\" \"['AU', 'DE', 'FR']\"\n",
            " \"['HR']\" \"['DE', 'LU']\" \"['AE', 'SA', 'SY']\" \"['BR', 'CA']\"\n",
            " \"['FR', 'RU', 'US']\" \"['PR']\" \"['JO']\"]\n"
          ]
        }
      ]
    },
    {
      "cell_type": "code",
      "source": [
        "# Remove any movies/shows without a title\n",
        "deduplicated_df = deduplicated_df.dropna(subset=['title'])"
      ],
      "metadata": {
        "id": "oLav_CoSi9sf"
      },
      "execution_count": 15,
      "outputs": []
    },
    {
      "cell_type": "code",
      "source": [
        "# Showing the number of unique values in these columns;\n",
        "# these can be converted to categorical variables\n",
        "print(deduplicated_df['type'].nunique())\n",
        "print(deduplicated_df['age_certification'].nunique())\n",
        "print(deduplicated_df['genres'].nunique())\n",
        "\n",
        "# Convert the above columns into categorical variables\n",
        "deduplicated_df['type'] = deduplicated_df['type'].astype('category')\n",
        "deduplicated_df['age_certification'] = deduplicated_df['age_certification'].astype('category')\n",
        "deduplicated_df['genres'] = deduplicated_df['genres'].astype('category')"
      ],
      "metadata": {
        "id": "2xgf3B_79WvG",
        "outputId": "f765962e-4b9e-4bfe-a4f6-484dcdd56f9d",
        "colab": {
          "base_uri": "https://localhost:8080/"
        }
      },
      "execution_count": 16,
      "outputs": [
        {
          "output_type": "stream",
          "name": "stdout",
          "text": [
            "2\n",
            "11\n",
            "18\n"
          ]
        }
      ]
    },
    {
      "cell_type": "code",
      "source": [
        "# Few more touches left\n",
        "\n",
        "# Rename genres column to genre (more consistent with the stored value)\n",
        "deduplicated_df.rename(columns={'genres': 'genre'}, inplace=True)\n",
        "\n",
        "# Convert seasons and imdb_votes from float to int data type\n",
        "deduplicated_df['seasons'] = deduplicated_df['seasons'].astype('Int64')\n",
        "deduplicated_df['imdb_votes'] = deduplicated_df['imdb_votes'].astype('Int64')\n",
        "\n",
        "# Reset the indexes of the rows.\n",
        "deduplicated_df.reset_index(drop=True, inplace=True)"
      ],
      "metadata": {
        "id": "arpiQBh39fT4"
      },
      "execution_count": 17,
      "outputs": []
    },
    {
      "cell_type": "code",
      "source": [
        "deduplicated_df.info()\n",
        "final_df = deduplicated_df.copy()"
      ],
      "metadata": {
        "colab": {
          "base_uri": "https://localhost:8080/"
        },
        "id": "1K9wsaWpjDHw",
        "outputId": "80ffb5d7-9e82-4288-bc3b-881b13813951"
      },
      "execution_count": 18,
      "outputs": [
        {
          "output_type": "stream",
          "name": "stdout",
          "text": [
            "<class 'pandas.core.frame.DataFrame'>\n",
            "RangeIndex: 8160 entries, 0 to 8159\n",
            "Data columns (total 11 columns):\n",
            " #   Column                Non-Null Count  Dtype   \n",
            "---  ------                --------------  -----   \n",
            " 0   title                 8160 non-null   object  \n",
            " 1   type                  8160 non-null   category\n",
            " 2   release_year          8160 non-null   int64   \n",
            " 3   age_certification     4864 non-null   category\n",
            " 4   runtime               8160 non-null   int64   \n",
            " 5   genre                 8079 non-null   category\n",
            " 6   production_countries  8160 non-null   object  \n",
            " 7   seasons               3370 non-null   Int64   \n",
            " 8   imdb_votes            7499 non-null   Int64   \n",
            " 9   tmdb_popularity       8020 non-null   float64 \n",
            " 10  average_score         8039 non-null   float64 \n",
            "dtypes: Int64(2), category(3), float64(2), int64(2), object(2)\n",
            "memory usage: 551.2+ KB\n"
          ]
        }
      ]
    },
    {
      "cell_type": "code",
      "source": [
        "# Export the final merged/cleaned/wrangled dataset as csv\n",
        "final_df.to_csv('merged.csv', index=False)"
      ],
      "metadata": {
        "id": "LDAbNc9A_GoF"
      },
      "execution_count": 19,
      "outputs": []
    }
  ]
}
